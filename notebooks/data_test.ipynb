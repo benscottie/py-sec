{
 "cells": [
  {
   "cell_type": "code",
   "execution_count": 82,
   "id": "faced-shore",
   "metadata": {},
   "outputs": [],
   "source": [
    "# Libraries\n",
    "from bs4 import BeautifulSoup\n",
    "from sec_edgar_downloader import Downloader\n",
    "import glob\n",
    "import shutil"
   ]
  },
  {
   "cell_type": "code",
   "execution_count": 6,
   "id": "overall-furniture",
   "metadata": {},
   "outputs": [],
   "source": [
    "# Initialize SEC Downloader\n",
    "dl = Downloader()"
   ]
  },
  {
   "cell_type": "code",
   "execution_count": 118,
   "id": "alleged-afternoon",
   "metadata": {},
   "outputs": [
    {
     "data": {
      "text/plain": [
       "7"
      ]
     },
     "execution_count": 118,
     "metadata": {},
     "output_type": "execute_result"
    }
   ],
   "source": [
    "# Download Most Recent 10-K Filing for Apple\n",
    "company = 'AAPL'\n",
    "before_yr = 2021\n",
    "after_yr = 2014\n",
    "# dl.get('10-K', company, amount=1)\n",
    "\n",
    "# Get all 8-K filings for Apple after January 1, 2017 and before March 25, 2017\n",
    "# Note: after and before strings must be in the form \"YYYY-MM-DD\"\n",
    "dl.get(\"10-K\", \"MSFT\", after=f'{after_yr}-01-01', before=f'{before_yr}-01-21')\n",
    "\n",
    "# Get all 10-K filings for Apple\n",
    "# dl.get(\"10-K\", \"AAPL\")"
   ]
  },
  {
   "cell_type": "code",
   "execution_count": 115,
   "id": "greatest-inventory",
   "metadata": {},
   "outputs": [],
   "source": [
    "# Identify File Path\n",
    "file = glob.glob(f\"sec-edgar-filings/{company}/10-K/**/*.html\", recursive = False)"
   ]
  },
  {
   "cell_type": "code",
   "execution_count": 93,
   "id": "technological-candle",
   "metadata": {},
   "outputs": [],
   "source": [
    "# Load 10-K HTML\n",
    "def load_html(fpath):\n",
    "    with open(fpath, 'r') as f:\n",
    "        return f.read()\n",
    "filing = load_html(file)"
   ]
  },
  {
   "cell_type": "code",
   "execution_count": 105,
   "id": "elect-sleeve",
   "metadata": {},
   "outputs": [
    {
     "name": "stdout",
     "output_type": "stream",
     "text": [
      "3\n"
     ]
    }
   ],
   "source": [
    "# Initialize BS Object\n",
    "soup = BeautifulSoup(filing, 'html.parser')\n",
    "# Get Text \n",
    "txt = soup.get_text()\n",
    "txt = txt.lower().replace('\\xa0', ' ')\n",
    "# Parse & Clean Item 7\n",
    "item = txt.split(\"item 7.\")[2]\n",
    "item = item.split(\"item 8.\")[0]"
   ]
  },
  {
   "cell_type": "code",
   "execution_count": 72,
   "id": "entire-mountain",
   "metadata": {},
   "outputs": [
    {
     "name": "stdout",
     "output_type": "stream",
     "text": [
      "Length of Item: 5585 Tokens\n"
     ]
    }
   ],
   "source": [
    "# Examine Item 7\n",
    "print(f'Length of Item: {len(item.split())} Tokens')"
   ]
  },
  {
   "cell_type": "code",
   "execution_count": 80,
   "id": "metric-hartford",
   "metadata": {},
   "outputs": [
    {
     "data": {
      "text/plain": [
       "'20200926'"
      ]
     },
     "execution_count": 80,
     "metadata": {},
     "output_type": "execute_result"
    }
   ],
   "source": [
    "# Get Date\n",
    "soup.title.get_text().split('-')[1]"
   ]
  },
  {
   "cell_type": "code",
   "execution_count": 83,
   "id": "several-encyclopedia",
   "metadata": {},
   "outputs": [],
   "source": [
    "# Delete Downloaded Directory\n",
    "shutil.rmtree('sec-edgar-filings')"
   ]
  },
  {
   "cell_type": "code",
   "execution_count": null,
   "id": "capital-small",
   "metadata": {},
   "outputs": [],
   "source": []
  }
 ],
 "metadata": {
  "kernelspec": {
   "display_name": "sec",
   "language": "python",
   "name": "sec"
  },
  "language_info": {
   "codemirror_mode": {
    "name": "ipython",
    "version": 3
   },
   "file_extension": ".py",
   "mimetype": "text/x-python",
   "name": "python",
   "nbconvert_exporter": "python",
   "pygments_lexer": "ipython3",
   "version": "3.9.1"
  }
 },
 "nbformat": 4,
 "nbformat_minor": 5
}
