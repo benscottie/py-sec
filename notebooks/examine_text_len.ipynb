{
 "cells": [
  {
   "cell_type": "code",
   "execution_count": 3,
   "id": "olympic-airfare",
   "metadata": {},
   "outputs": [],
   "source": [
    "# Libraries\n",
    "import pandas as pd\n",
    "from scripts.db_utils import create_postgress_engine"
   ]
  },
  {
   "cell_type": "code",
   "execution_count": 4,
   "id": "announced-pattern",
   "metadata": {},
   "outputs": [],
   "source": [
    "# Establishing Connectivity - the Engine\n",
    "engine = create_postgress_engine(username='benscottie',\n",
    "                                 password='Bethel2001$', \n",
    "                                 dialect_driver='postgresql', \n",
    "                                 host='sec-test.csfr6b0gmrjt.us-east-1.rds.amazonaws.com',\n",
    "                                 port='5432', \n",
    "                                 database='sec_db')"
   ]
  },
  {
   "cell_type": "code",
   "execution_count": 6,
   "id": "breeding-leather",
   "metadata": {},
   "outputs": [
    {
     "name": "stdout",
     "output_type": "stream",
     "text": [
      "Data Size: 43\n"
     ]
    },
    {
     "data": {
      "text/html": [
       "<div>\n",
       "<style scoped>\n",
       "    .dataframe tbody tr th:only-of-type {\n",
       "        vertical-align: middle;\n",
       "    }\n",
       "\n",
       "    .dataframe tbody tr th {\n",
       "        vertical-align: top;\n",
       "    }\n",
       "\n",
       "    .dataframe thead th {\n",
       "        text-align: right;\n",
       "    }\n",
       "</style>\n",
       "<table border=\"1\" class=\"dataframe\">\n",
       "  <thead>\n",
       "    <tr style=\"text-align: right;\">\n",
       "      <th></th>\n",
       "      <th>id</th>\n",
       "      <th>company</th>\n",
       "      <th>date</th>\n",
       "      <th>year</th>\n",
       "      <th>item_text</th>\n",
       "      <th>sentiment_score</th>\n",
       "    </tr>\n",
       "  </thead>\n",
       "  <tbody>\n",
       "    <tr>\n",
       "      <th>0</th>\n",
       "      <td>110</td>\n",
       "      <td>AAPL</td>\n",
       "      <td>2008-09-27</td>\n",
       "      <td>2008</td>\n",
       "      <td>management’s discussion and analysis of financ...</td>\n",
       "      <td>None</td>\n",
       "    </tr>\n",
       "    <tr>\n",
       "      <th>1</th>\n",
       "      <td>111</td>\n",
       "      <td>AAPL</td>\n",
       "      <td>2006-09-30</td>\n",
       "      <td>2006</td>\n",
       "      <td>management’s discussion and analysis of financ...</td>\n",
       "      <td>None</td>\n",
       "    </tr>\n",
       "    <tr>\n",
       "      <th>2</th>\n",
       "      <td>112</td>\n",
       "      <td>AAPL</td>\n",
       "      <td>2019-09-28</td>\n",
       "      <td>2019</td>\n",
       "      <td>management’s discussion and analysis of financ...</td>\n",
       "      <td>None</td>\n",
       "    </tr>\n",
       "    <tr>\n",
       "      <th>3</th>\n",
       "      <td>113</td>\n",
       "      <td>AAPL</td>\n",
       "      <td>2012-09-29</td>\n",
       "      <td>2012</td>\n",
       "      <td>management’s discussion and analysis of financ...</td>\n",
       "      <td>None</td>\n",
       "    </tr>\n",
       "    <tr>\n",
       "      <th>4</th>\n",
       "      <td>114</td>\n",
       "      <td>AAPL</td>\n",
       "      <td>2017-09-30</td>\n",
       "      <td>2017</td>\n",
       "      <td>management’s discussion and analysis of financ...</td>\n",
       "      <td>None</td>\n",
       "    </tr>\n",
       "  </tbody>\n",
       "</table>\n",
       "</div>"
      ],
      "text/plain": [
       "    id company        date  year  \\\n",
       "0  110    AAPL  2008-09-27  2008   \n",
       "1  111    AAPL  2006-09-30  2006   \n",
       "2  112    AAPL  2019-09-28  2019   \n",
       "3  113    AAPL  2012-09-29  2012   \n",
       "4  114    AAPL  2017-09-30  2017   \n",
       "\n",
       "                                           item_text sentiment_score  \n",
       "0  management’s discussion and analysis of financ...            None  \n",
       "1  management’s discussion and analysis of financ...            None  \n",
       "2  management’s discussion and analysis of financ...            None  \n",
       "3  management’s discussion and analysis of financ...            None  \n",
       "4  management’s discussion and analysis of financ...            None  "
      ]
     },
     "execution_count": 6,
     "metadata": {},
     "output_type": "execute_result"
    }
   ],
   "source": [
    "# View Table / Create DataFrame\n",
    "sql = 'select * from item_sentiment'\n",
    "with engine.connect() as con:\n",
    "    df = pd.read_sql_query(sql, con=con)\n",
    "print(f'Data Size: {df.shape[0]} Records')\n",
    "df.head()"
   ]
  },
  {
   "cell_type": "code",
   "execution_count": 7,
   "id": "grave-elite",
   "metadata": {},
   "outputs": [],
   "source": [
    "# Create Text Length Column\n",
    "df['text_len'] = df.item_text.str.split().str.len()"
   ]
  },
  {
   "cell_type": "code",
   "execution_count": 15,
   "id": "coordinate-responsibility",
   "metadata": {},
   "outputs": [
    {
     "data": {
      "text/plain": [
       "Text(0.5, 0, 'Text Length (Words)')"
      ]
     },
     "execution_count": 15,
     "metadata": {},
     "output_type": "execute_result"
    },
    {
     "data": {
      "image/png": "[encoded data removed]",
      "text/plain": [
       "<Figure size 432x288 with 1 Axes>"
      ]
     },
     "metadata": {
      "needs_background": "light"
     },
     "output_type": "display_data"
    }
   ],
   "source": [
    "# View Text Length Distribution\n",
    "df = df[df['text_len']>0]\n",
    "plt = df['text_len'].hist()\n",
    "plt.set_xlabel('Text Length (Words)')"
   ]
  },
  {
   "cell_type": "code",
   "execution_count": null,
   "id": "generic-constant",
   "metadata": {},
   "outputs": [],
   "source": []
  }
 ],
 "metadata": {
  "kernelspec": {
   "display_name": "sec",
   "language": "python",
   "name": "sec"
  },
  "language_info": {
   "codemirror_mode": {
    "name": "ipython",
    "version": 3
   },
   "file_extension": ".py",
   "mimetype": "text/x-python",
   "name": "python",
   "nbconvert_exporter": "python",
   "pygments_lexer": "ipython3",
   "version": "3.9.1"
  }
 },
 "nbformat": 4,
 "nbformat_minor": 5
}
