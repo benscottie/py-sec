{
 "cells": [
  {
   "cell_type": "code",
   "execution_count": null,
   "id": "excessive-accommodation",
   "metadata": {},
   "outputs": [],
   "source": [
    "# Libraries\n",
    "import requests"
   ]
  },
  {
   "cell_type": "code",
   "execution_count": null,
   "id": "indonesian-integration",
   "metadata": {},
   "outputs": [],
   "source": [
    "# Test API Request\n",
    "url = 'http://127.0.0.1:5000/'\n",
    "\n",
    "r = requests.post(url, json=[{'company': 'AAPL',\n",
    "                            'before_year': 2013,\n",
    "                            'after_year': 2011}])\n",
    "\n",
    "print(r.json())"
   ]
  },
  {
   "cell_type": "code",
   "execution_count": null,
   "id": "christian-arabic",
   "metadata": {},
   "outputs": [],
   "source": []
  }
 ],
 "metadata": {
  "kernelspec": {
   "display_name": "sec",
   "language": "python",
   "name": "sec"
  },
  "language_info": {
   "codemirror_mode": {
    "name": "ipython",
    "version": 3
   },
   "file_extension": ".py",
   "mimetype": "text/x-python",
   "name": "python",
   "nbconvert_exporter": "python",
   "pygments_lexer": "ipython3",
   "version": "3.9.1"
  }
 },
 "nbformat": 4,
 "nbformat_minor": 5
}
