{
 "cells": [
  {
   "cell_type": "code",
   "execution_count": null,
   "id": "usual-preparation",
   "metadata": {},
   "outputs": [],
   "source": [
    "# Libraries\n",
    "from scripts.db_utils import create_postgress_engine, create_table, drop_table, add_filing_data, delete_record, select_record, truncate_table\n",
    "from sqlalchemy import *\n",
    "import pandas as pd"
   ]
  },
  {
   "cell_type": "code",
   "execution_count": null,
   "id": "local-visibility",
   "metadata": {},
   "outputs": [],
   "source": [
    "# Establishing Connectivity - the Engine\n",
    "engine = create_postgress_engine(username='benscottie',\n",
    "                                 password='Bethel2001$', \n",
    "                                 dialect_driver='postgresql', \n",
    "                                 host='sec-test.csfr6b0gmrjt.us-east-1.rds.amazonaws.com',\n",
    "                                 port='5432', \n",
    "                                 database='sec_db')"
   ]
  },
  {
   "cell_type": "code",
   "execution_count": null,
   "id": "amino-timing",
   "metadata": {},
   "outputs": [],
   "source": [
    "# Create Table\n",
    "create_table(engine, 'item_sentiment')"
   ]
  },
  {
   "cell_type": "code",
   "execution_count": null,
   "id": "novel-roulette",
   "metadata": {},
   "outputs": [],
   "source": [
    "# Drop Table\n",
    "drop_table(engine, 'item_sentiment')"
   ]
  },
  {
   "cell_type": "code",
   "execution_count": null,
   "id": "perceived-investor",
   "metadata": {},
   "outputs": [],
   "source": [
    "# View Table Names in DataBase\n",
    "inspector = inspect(engine)\n",
    "inspector.get_table_names()"
   ]
  },
  {
   "cell_type": "code",
   "execution_count": null,
   "id": "blank-enzyme",
   "metadata": {},
   "outputs": [],
   "source": [
    "# View Table\n",
    "sql = 'select * from item_sentiment'\n",
    "with engine.connect() as con:\n",
    "    df = pd.read_sql_query(sql, con=con)\n",
    "df"
   ]
  },
  {
   "cell_type": "code",
   "execution_count": null,
   "id": "sexual-layout",
   "metadata": {},
   "outputs": [],
   "source": [
    "# Add Filing Data\n",
    "d = [{'company': 'AAPL', 'date': '20200101', 'year': 2020, 'item_text': 'hello world', 'sentiment_score': 0.93},\n",
    "     {'company': 'AAPL', 'date': '20190101', 'year': 2019, 'item_text': 'hello world', 'sentiment_score': 0.76},\n",
    "     {'company': 'AAPL', 'date': '20170101', 'year': 2017, 'item_text': 'hello world', 'sentiment_score': 0.68}]\n",
    "add_filing_data(engine, d, 'item_sentiment')"
   ]
  },
  {
   "cell_type": "code",
   "execution_count": null,
   "id": "floppy-program",
   "metadata": {},
   "outputs": [],
   "source": [
    "# Delete Record\n",
    "delete_record(engine, idx=2, table_name='item_sentiment')"
   ]
  },
  {
   "cell_type": "code",
   "execution_count": null,
   "id": "advanced-condition",
   "metadata": {},
   "outputs": [],
   "source": [
    "# Truncate Table\n",
    "truncate_table(engine, 'item_sentiment')"
   ]
  },
  {
   "cell_type": "code",
   "execution_count": null,
   "id": "novel-gibson",
   "metadata": {},
   "outputs": [],
   "source": [
    "# Select Record\n",
    "d = select_record(engine, 'item_sentiment', company='AAPL', after_yr=2015, before_yr=2019)\n",
    "print(d)"
   ]
  },
  {
   "cell_type": "code",
   "execution_count": null,
   "id": "missing-sculpture",
   "metadata": {},
   "outputs": [],
   "source": []
  }
 ],
 "metadata": {
  "kernelspec": {
   "display_name": "sec",
   "language": "python",
   "name": "sec"
  },
  "language_info": {
   "codemirror_mode": {
    "name": "ipython",
    "version": 3
   },
   "file_extension": ".py",
   "mimetype": "text/x-python",
   "name": "python",
   "nbconvert_exporter": "python",
   "pygments_lexer": "ipython3",
   "version": "3.9.1"
  }
 },
 "nbformat": 4,
 "nbformat_minor": 5
}
